{
 "cells": [
  {
   "cell_type": "code",
   "execution_count": 1,
   "id": "fce8eaad",
   "metadata": {
    "id": "fce8eaad"
   },
   "outputs": [
    {
     "name": "stderr",
     "output_type": "stream",
     "text": [
      "/opt/miniconda3/envs/opence-v1.5.1/lib/python3.9/site-packages/tqdm/auto.py:22: TqdmWarning: IProgress not found. Please update jupyter and ipywidgets. See https://ipywidgets.readthedocs.io/en/stable/user_install.html\n",
      "  from .autonotebook import tqdm as notebook_tqdm\n"
     ]
    }
   ],
   "source": [
    "import numpy as np\n",
    "import io\n",
    "from matplotlib import pyplot as plt\n",
    "\n",
    "from torch import nn\n",
    "import torch.onnx\n",
    "import torch"
   ]
  },
  {
   "cell_type": "code",
   "execution_count": 2,
   "id": "4ea41574",
   "metadata": {
    "id": "4ea41574"
   },
   "outputs": [],
   "source": [
    "from model import BraggNN"
   ]
  },
  {
   "cell_type": "code",
   "execution_count": 3,
   "id": "04261ef7",
   "metadata": {
    "id": "04261ef7",
    "outputId": "652f5999-1a96-4e9b-9c41-37cc485ec2af"
   },
   "outputs": [
    {
     "data": {
      "text/plain": [
       "<All keys matched successfully>"
      ]
     },
     "execution_count": 3,
     "metadata": {},
     "output_type": "execute_result"
    }
   ],
   "source": [
    "# load a pre-trained model \n",
    "model  = BraggNN(imgsz=11, fcsz=(16, 8, 4, 2)) # should use the same argu as it in the training.\n",
    "#mdl_fn = 'mdl-it00271.pth'\n",
    "mdl_fn = '0center-gpu.pth'\n",
    "# may need to replace torch.load with torch.jit.loadif it doesn't work\n",
    "model.load_state_dict(torch.load(mdl_fn, map_location=torch.device('cpu')))"
   ]
  },
  {
   "cell_type": "code",
   "execution_count": 4,
   "id": "272d780d",
   "metadata": {
    "id": "272d780d",
    "outputId": "21d77a20-9481-441a-b199-81baa7860740"
   },
   "outputs": [
    {
     "data": {
      "image/png": "[encoded data removed]",
      "text/plain": [
       "<Figure size 432x288 with 1 Axes>"
      ]
     },
     "metadata": {
      "needs_background": "light"
     },
     "output_type": "display_data"
    }
   ],
   "source": [
    "# use a simple gaussian for demo\n",
    "# node that models in this repo are pre-trained with real experiment data\n",
    "# the simple gaussian data may not simplify anything but makes a challenge to the model\n",
    "# as the train data and testing data are not IID.\n",
    "X_test = np.zeros((11, 11))\n",
    "x_cen, y_cen = 6.0, 5.0\n",
    "\n",
    "sig_x, sig_y = 0.6, 1.5\n",
    "for x in range(11):\n",
    "    for y in range(11):\n",
    "        X_test[y][x] = 1000*(np.exp(-(x-x_cen)*(x-x_cen)/2*sig_x -(y-y_cen)*(y-y_cen)/2*sig_y))\n",
    "        \n",
    "# the input needs to be normalize to 0-1, e.g., rescale using min-max norm\n",
    "X_test = (X_test - X_test.min()) / (X_test.max() - X_test.min())\n",
    "\n",
    "plt.imshow(X_test, cmap='seismic')\n",
    "plt.show(); plt.close()"
   ]
  },
  {
   "cell_type": "code",
   "execution_count": 5,
   "id": "c1fd0230",
   "metadata": {
    "id": "c1fd0230"
   },
   "outputs": [
    {
     "name": "stdout",
     "output_type": "stream",
     "text": [
      "torch.Size([1, 1, 11, 11])\n"
     ]
    }
   ],
   "source": [
    "input_tensor = torch.from_numpy(X_test[np.newaxis, np.newaxis].astype('float32'))\n",
    "print(input_tensor.shape)\n",
    "\n",
    "\n",
    "# Export the model\n",
    "torch.onnx.export(model,               # model being run\n",
    "                  input_tensor,                         # model input (or a tuple for multiple inputs)\n",
    "                  \"0center-gpu-opset11.onnx\",   # where to save the model (can be a file or file-like object)\n",
    "                  export_params=True,        # store the trained parameter weights inside the model file\n",
    "                  opset_version=11,          # the ONNX version to export the model to\n",
    "                  do_constant_folding=True,  # whether to execute constant folding for optimization\n",
    "                  input_names = ['input'],   # the model's input names\n",
    "                  output_names = ['output'], # the model's output names\n",
    "                  dynamic_axes={'input' : {0 : 'batch_size'},    # variable length axes\n",
    "                                'output' : {0 : 'batch_size'}})"
   ]
  },
  {
   "cell_type": "code",
   "execution_count": null,
   "id": "79c0f60a",
   "metadata": {},
   "outputs": [],
   "source": []
  }
 ],
 "metadata": {
  "colab": {
   "name": "run-traditional-model.ipynb",
   "provenance": []
  },
  "kernelspec": {
   "display_name": "Python [conda env:opence-v1.5.1]",
   "language": "python",
   "name": "conda-env-opence-v1.5.1-py"
  },
  "language_info": {
   "codemirror_mode": {
    "name": "ipython",
    "version": 3
   },
   "file_extension": ".py",
   "mimetype": "text/x-python",
   "name": "python",
   "nbconvert_exporter": "python",
   "pygments_lexer": "ipython3",
   "version": "3.9.12"
  }
 },
 "nbformat": 4,
 "nbformat_minor": 5
}
