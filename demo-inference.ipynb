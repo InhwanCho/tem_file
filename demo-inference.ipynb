{
 "cells": [
  {
   "cell_type": "code",
   "execution_count": 13,
   "id": "familiar-burden",
   "metadata": {},
   "outputs": [],
   "source": [
    "import numpy as np\n",
    "from matplotlib import pyplot as plt\n",
    "import torch"
   ]
  },
  {
   "cell_type": "code",
   "execution_count": 4,
   "id": "aware-nitrogen",
   "metadata": {},
   "outputs": [],
   "source": [
    "from model import BraggNN"
   ]
  },
  {
   "cell_type": "code",
   "execution_count": 6,
   "id": "numerous-birmingham",
   "metadata": {},
   "outputs": [
    {
     "data": {
      "text/plain": [
       "<All keys matched successfully>"
      ]
     },
     "execution_count": 6,
     "metadata": {},
     "output_type": "execute_result"
    }
   ],
   "source": [
    "# load a pre-trained model \n",
    "model  = BraggNN(imgsz=11, fcsz=(16, 8, 4, 2)) # should use the same argu as it in the training.\n",
    "mdl_fn = 'models/fc16_8_4_2-sz11.pth'\n",
    "model.load_state_dict(torch.load(mdl_fn, map_location=torch.device('cpu')))"
   ]
  },
  {
   "cell_type": "code",
   "execution_count": 28,
   "id": "continuing-miami",
   "metadata": {},
   "outputs": [
    {
     "data": {
      "image/png": "[encoded data removed]",
      "text/plain": [
       "<Figure size 432x288 with 1 Axes>"
      ]
     },
     "metadata": {
      "needs_background": "light"
     },
     "output_type": "display_data"
    }
   ],
   "source": [
    "# use a simple gaussian for demo\n",
    "# node that models in this repo are pre-trained with real experiment data\n",
    "# the simple gaussian data may not simplify anything but makes a challenge to the model\n",
    "# as the train data and testing data are not IID.\n",
    "X_test = np.zeros((11, 11))\n",
    "x_cen, y_cen = 6.0, 5.0\n",
    "\n",
    "sig_x, sig_y = 0.6, 1.5\n",
    "for x in range(11):\n",
    "    for y in range(11):\n",
    "        X_test[y][x] = 1000*(np.exp(-(x-x_cen)*(x-x_cen)/2*sig_x -(y-y_cen)*(y-y_cen)/2*sig_y))\n",
    "        \n",
    "# the input needs to be normalize to 0-1, e.g., rescale using min-max norm\n",
    "X_test = (X_test - X_test.min()) / (X_test.max() - X_test.min())\n",
    "\n",
    "plt.imshow(X_test, cmap='seismic')\n",
    "plt.show(); plt.close()"
   ]
  },
  {
   "cell_type": "code",
   "execution_count": 29,
   "id": "transsexual-venture",
   "metadata": {},
   "outputs": [],
   "source": [
    "input_tensor = torch.from_numpy(X_test[np.newaxis, np.newaxis].astype('float32'))\n",
    "with torch.no_grad():\n",
    "    pred = model.forward(input_tensor).cpu().numpy()"
   ]
  },
  {
   "cell_type": "code",
   "execution_count": 30,
   "id": "comprehensive-reggae",
   "metadata": {},
   "outputs": [
    {
     "data": {
      "text/plain": [
       "array([[5.9797044, 4.919209 ]], dtype=float32)"
      ]
     },
     "execution_count": 30,
     "metadata": {},
     "output_type": "execute_result"
    }
   ],
   "source": [
    "# scale back peak location by multiply with patch size\n",
    "pred * 11"
   ]
  },
  {
   "cell_type": "code",
   "execution_count": null,
   "id": "legal-moldova",
   "metadata": {},
   "outputs": [],
   "source": []
  }
 ],
 "metadata": {
  "kernelspec": {
   "display_name": "Python 3",
   "language": "python",
   "name": "python3"
  },
  "language_info": {
   "codemirror_mode": {
    "name": "ipython",
    "version": 3
   },
   "file_extension": ".py",
   "mimetype": "text/x-python",
   "name": "python",
   "nbconvert_exporter": "python",
   "pygments_lexer": "ipython3",
   "version": "3.7.3"
  }
 },
 "nbformat": 4,
 "nbformat_minor": 5
}
